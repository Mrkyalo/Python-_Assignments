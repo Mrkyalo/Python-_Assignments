{
 "cells": [
  {
   "cell_type": "markdown",
   "id": "61c73496",
   "metadata": {},
   "source": [
    "## Write a python function that checks if a number is even or odd (write in the normal function and lambda function)"
   ]
  },
  {
   "cell_type": "code",
   "execution_count": 4,
   "id": "af1ca4c7",
   "metadata": {},
   "outputs": [
    {
     "name": "stdout",
     "output_type": "stream",
     "text": [
      "Even\n",
      "Odd\n"
     ]
    }
   ],
   "source": [
    "#Normal\n",
    "def check_even_odd(num):\n",
    "    if num % 2 == 0:\n",
    "        return \"Even\"\n",
    "    else:\n",
    "        return \"Odd\"\n",
    "\n",
    "# example 1\n",
    "x=12\n",
    "if x %2 == 0:\n",
    "    print(\"Even\")\n",
    "else:\n",
    "    print(\"Odd\")\n",
    "\n",
    "# example 2\n",
    "y = 21\n",
    "if y %2==0:\n",
    "    print(\"Even\")\n",
    "else:\n",
    "    print(\"Odd\")    \n"
   ]
  },
  {
   "cell_type": "markdown",
   "id": "5b14112c",
   "metadata": {},
   "source": [
    "- In the above example we have used the modulo(%) operator (also called the remainder operator) is useful to determine if a number is odd or even. We obtain the remainder of the division of a number by 2. If it is 0, it is even otherwise it is odd."
   ]
  },
  {
   "cell_type": "code",
   "execution_count": 6,
   "id": "69ce3795",
   "metadata": {},
   "outputs": [
    {
     "name": "stdout",
     "output_type": "stream",
     "text": [
      "Even\n"
     ]
    }
   ],
   "source": [
    "#Lambda function\n",
    "calc = lambda num: \"Even\" if num % 2 == 0 else \"Odd\"\n",
    "print(calc(20))\n",
    "\n"
   ]
  },
  {
   "cell_type": "markdown",
   "id": "4dd35fd8",
   "metadata": {},
   "source": [
    "- In Python, a lambda function is an anonymous function meaning it is defined without a name. Unlike regular functions defined using def keyword, lambda functions are created using lambda keyword\n",
    "- They are useful for writing small, simple functions in a concise way, especially when you need a function temporarily.\n",
    "\n"
   ]
  }
 ],
 "metadata": {
  "kernelspec": {
   "display_name": "base",
   "language": "python",
   "name": "python3"
  },
  "language_info": {
   "codemirror_mode": {
    "name": "ipython",
    "version": 3
   },
   "file_extension": ".py",
   "mimetype": "text/x-python",
   "name": "python",
   "nbconvert_exporter": "python",
   "pygments_lexer": "ipython3",
   "version": "3.12.7"
  }
 },
 "nbformat": 4,
 "nbformat_minor": 5
}
